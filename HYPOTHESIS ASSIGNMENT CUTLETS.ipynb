{
 "cells": [
  {
   "cell_type": "markdown",
   "id": "e2d2ea07",
   "metadata": {},
   "source": [
    "## HYPOTHESIS TESTING ASSIGNMNENT(CUTLETS)"
   ]
  },
  {
   "cell_type": "markdown",
   "id": "acdfbade",
   "metadata": {},
   "source": [
    "### DATASET CUTLETS.CSV"
   ]
  },
  {
   "cell_type": "raw",
   "id": "3238755e",
   "metadata": {},
   "source": [
    "A F&B manager wants to determine whether there is any significant difference in the diameter of the cutlet between two units.\n",
    "A randomly selected sample of cutlets was collected from both units and measured? Analyze the data and draw inferences at 5% significance level. \n",
    "Please state the assumptions and tests that you carried out to check validity of the assumptions.\n",
    "Dataset : Cutlets.csv\n",
    "Assumptions of Hypothesis\n",
    "Null Hypothesis Ho : μ1 = μ2 (There is no difference in diameters of cutlets between two units).\n",
    "Alternate Hypothesis Ha : μ1 ≠ μ2 (There is significant difference in diameters of cutlets between two units)\n",
    "As its problem of 2 samples, 2 sample 2 test approach is applicable\n",
    "Also, as the number of samples collected from both the units are greater than 30 so, insted of using t-test we need to \n",
    "use z-test to calculate p-value. The reason we are using z-test is that, as no. of samples increases t-distribution approaches to standard normal distribution."
   ]
  },
  {
   "cell_type": "code",
   "execution_count": 1,
   "id": "99e94c2a",
   "metadata": {},
   "outputs": [],
   "source": [
    "# Import libraries\n",
    "import pandas as pd\n",
    "import numpy as np\n",
    "from scipy import stats\n",
    "from statsmodels.stats import weightstats as stests\n",
    "import statsmodels.api as sm"
   ]
  },
  {
   "cell_type": "code",
   "execution_count": 2,
   "id": "2dcc6aaf",
   "metadata": {},
   "outputs": [],
   "source": [
    "df=pd.read_csv('C:/Users/Hi/Downloads/cutlets.csv')"
   ]
  },
  {
   "cell_type": "markdown",
   "id": "f11ff128",
   "metadata": {},
   "source": [
    "## EDA"
   ]
  },
  {
   "cell_type": "code",
   "execution_count": 3,
   "id": "07927d0e",
   "metadata": {},
   "outputs": [
    {
     "data": {
      "text/plain": [
       "(35, 2)"
      ]
     },
     "execution_count": 3,
     "metadata": {},
     "output_type": "execute_result"
    }
   ],
   "source": [
    "df.shape"
   ]
  },
  {
   "cell_type": "code",
   "execution_count": 4,
   "id": "e7a1d040",
   "metadata": {},
   "outputs": [
    {
     "data": {
      "text/html": [
       "<div>\n",
       "<style scoped>\n",
       "    .dataframe tbody tr th:only-of-type {\n",
       "        vertical-align: middle;\n",
       "    }\n",
       "\n",
       "    .dataframe tbody tr th {\n",
       "        vertical-align: top;\n",
       "    }\n",
       "\n",
       "    .dataframe thead th {\n",
       "        text-align: right;\n",
       "    }\n",
       "</style>\n",
       "<table border=\"1\" class=\"dataframe\">\n",
       "  <thead>\n",
       "    <tr style=\"text-align: right;\">\n",
       "      <th></th>\n",
       "      <th>Unit A</th>\n",
       "      <th>Unit B</th>\n",
       "    </tr>\n",
       "  </thead>\n",
       "  <tbody>\n",
       "    <tr>\n",
       "      <th>count</th>\n",
       "      <td>35.000000</td>\n",
       "      <td>35.000000</td>\n",
       "    </tr>\n",
       "    <tr>\n",
       "      <th>mean</th>\n",
       "      <td>7.019091</td>\n",
       "      <td>6.964297</td>\n",
       "    </tr>\n",
       "    <tr>\n",
       "      <th>std</th>\n",
       "      <td>0.288408</td>\n",
       "      <td>0.343401</td>\n",
       "    </tr>\n",
       "    <tr>\n",
       "      <th>min</th>\n",
       "      <td>6.437600</td>\n",
       "      <td>6.038000</td>\n",
       "    </tr>\n",
       "    <tr>\n",
       "      <th>25%</th>\n",
       "      <td>6.831500</td>\n",
       "      <td>6.753600</td>\n",
       "    </tr>\n",
       "    <tr>\n",
       "      <th>50%</th>\n",
       "      <td>6.943800</td>\n",
       "      <td>6.939900</td>\n",
       "    </tr>\n",
       "    <tr>\n",
       "      <th>75%</th>\n",
       "      <td>7.280550</td>\n",
       "      <td>7.195000</td>\n",
       "    </tr>\n",
       "    <tr>\n",
       "      <th>max</th>\n",
       "      <td>7.516900</td>\n",
       "      <td>7.545900</td>\n",
       "    </tr>\n",
       "  </tbody>\n",
       "</table>\n",
       "</div>"
      ],
      "text/plain": [
       "          Unit A     Unit B\n",
       "count  35.000000  35.000000\n",
       "mean    7.019091   6.964297\n",
       "std     0.288408   0.343401\n",
       "min     6.437600   6.038000\n",
       "25%     6.831500   6.753600\n",
       "50%     6.943800   6.939900\n",
       "75%     7.280550   7.195000\n",
       "max     7.516900   7.545900"
      ]
     },
     "execution_count": 4,
     "metadata": {},
     "output_type": "execute_result"
    }
   ],
   "source": [
    "# description of dataset\n",
    "df.describe()"
   ]
  },
  {
   "cell_type": "code",
   "execution_count": 5,
   "id": "526e73bb",
   "metadata": {},
   "outputs": [
    {
     "data": {
      "text/plain": [
       "Unit A    0\n",
       "Unit B    0\n",
       "dtype: int64"
      ]
     },
     "execution_count": 5,
     "metadata": {},
     "output_type": "execute_result"
    }
   ],
   "source": [
    "# Checking for any null values \n",
    "df.isna().sum()"
   ]
  },
  {
   "cell_type": "markdown",
   "id": "d9442722",
   "metadata": {},
   "source": [
    "## Preparing data to be used in problem solving"
   ]
  },
  {
   "cell_type": "code",
   "execution_count": 9,
   "id": "76f87ca5",
   "metadata": {},
   "outputs": [],
   "source": [
    "unit_a = df['Unit A']\n",
    "unit_b = df['Unit B']"
   ]
  },
  {
   "cell_type": "markdown",
   "id": "12abd21a",
   "metadata": {},
   "source": [
    "## Applying ztest from statsmodels.stats, weightstats"
   ]
  },
  {
   "cell_type": "code",
   "execution_count": 10,
   "id": "d066370e",
   "metadata": {},
   "outputs": [],
   "source": [
    "# This will return two values, 1) ztest vaue, 2)p_value\n",
    "ztest, pvalue = stests.ztest(x1 = unit_a, x2=unit_b, value=0,alternative='two-sided')"
   ]
  },
  {
   "cell_type": "code",
   "execution_count": 11,
   "id": "afd0f620",
   "metadata": {},
   "outputs": [
    {
     "name": "stdout",
     "output_type": "stream",
     "text": [
      "P-value:  0.46976045023906055\n",
      "Fail to reject null hypothesis\n",
      "Conclusion: There is no significant difference in diameters of cutlets between two units\n"
     ]
    }
   ],
   "source": [
    "# significance level given is α = 0.05\n",
    "pvalue = float(pvalue)\n",
    "α = 0.05\n",
    "\n",
    "print(\"P-value: \", pvalue)\n",
    "\n",
    "if pvalue <= α:\n",
    "    print(\"Rejecting null hypothesis\")\n",
    "    print(\"Conclusion: There is significant difference in diameters of cutlets between two units\")\n",
    "else:\n",
    "    print(\"Fail to reject null hypothesis\")\n",
    "    print(\"Conclusion: There is no significant difference in diameters of cutlets between two units\")\n",
    "    "
   ]
  },
  {
   "cell_type": "markdown",
   "id": "e3b9dbee",
   "metadata": {},
   "source": [
    "### Result: Fail to reject null hypothesis\n",
    "### Inference: There is no significant difference in diameters of cutlets between two units"
   ]
  },
  {
   "cell_type": "markdown",
   "id": "6d2507e4",
   "metadata": {},
   "source": [
    "### A hospital wants to determine whether there is any difference in the average Turn Around Time (TAT) of reports of the laboratories on their preferred list. They collected a random sample and recorded TAT for reports of 4 laboratories. TAT is defined as sample collected to report dispatch.\n",
    "### Analyze the data and determine whether there is any difference in average TAT among the different laboratories at 5% significance level."
   ]
  },
  {
   "cell_type": "markdown",
   "id": "25364cd2",
   "metadata": {},
   "source": [
    "### Dataset : LabTAT.csv\n",
    "### Hypothesis Test: Anova ftest statistics\n",
    "### Assumptions of Hypothesis\n",
    "### Null Hypothesis Ho : μ1 = μ2 = μ3 = μ4 (All samples Turn Around Time (TAT) population means are same)\n",
    "### Alternate Hypothesis: Atleast one sample Turn Around Time (TAT) population mean is different"
   ]
  },
  {
   "cell_type": "code",
   "execution_count": 12,
   "id": "6828bb0d",
   "metadata": {},
   "outputs": [],
   "source": [
    "# Import libraries\n",
    "import pandas as pd\n",
    "import numpy as np\n",
    "import statsmodels.api as sm"
   ]
  },
  {
   "cell_type": "code",
   "execution_count": 19,
   "id": "e8150397",
   "metadata": {},
   "outputs": [],
   "source": [
    "# Load Dataset\n",
    "data=pd.read_csv('C:/Users/Hi/Downloads/LabTAT (2).csv')"
   ]
  },
  {
   "cell_type": "markdown",
   "id": "78dc1023",
   "metadata": {},
   "source": [
    "### EDA"
   ]
  },
  {
   "cell_type": "code",
   "execution_count": 20,
   "id": "8029dd37",
   "metadata": {},
   "outputs": [
    {
     "data": {
      "text/plain": [
       "(120, 4)"
      ]
     },
     "execution_count": 20,
     "metadata": {},
     "output_type": "execute_result"
    }
   ],
   "source": [
    "data.shape"
   ]
  },
  {
   "cell_type": "code",
   "execution_count": 21,
   "id": "3614af04",
   "metadata": {},
   "outputs": [
    {
     "data": {
      "text/html": [
       "<div>\n",
       "<style scoped>\n",
       "    .dataframe tbody tr th:only-of-type {\n",
       "        vertical-align: middle;\n",
       "    }\n",
       "\n",
       "    .dataframe tbody tr th {\n",
       "        vertical-align: top;\n",
       "    }\n",
       "\n",
       "    .dataframe thead th {\n",
       "        text-align: right;\n",
       "    }\n",
       "</style>\n",
       "<table border=\"1\" class=\"dataframe\">\n",
       "  <thead>\n",
       "    <tr style=\"text-align: right;\">\n",
       "      <th></th>\n",
       "      <th>Laboratory 1</th>\n",
       "      <th>Laboratory 2</th>\n",
       "      <th>Laboratory 3</th>\n",
       "      <th>Laboratory 4</th>\n",
       "    </tr>\n",
       "  </thead>\n",
       "  <tbody>\n",
       "    <tr>\n",
       "      <th>count</th>\n",
       "      <td>120.000000</td>\n",
       "      <td>120.000000</td>\n",
       "      <td>120.000000</td>\n",
       "      <td>120.00000</td>\n",
       "    </tr>\n",
       "    <tr>\n",
       "      <th>mean</th>\n",
       "      <td>178.361583</td>\n",
       "      <td>178.902917</td>\n",
       "      <td>199.913250</td>\n",
       "      <td>163.68275</td>\n",
       "    </tr>\n",
       "    <tr>\n",
       "      <th>std</th>\n",
       "      <td>13.173594</td>\n",
       "      <td>14.957114</td>\n",
       "      <td>16.539033</td>\n",
       "      <td>15.08508</td>\n",
       "    </tr>\n",
       "    <tr>\n",
       "      <th>min</th>\n",
       "      <td>138.300000</td>\n",
       "      <td>140.550000</td>\n",
       "      <td>159.690000</td>\n",
       "      <td>124.06000</td>\n",
       "    </tr>\n",
       "    <tr>\n",
       "      <th>25%</th>\n",
       "      <td>170.335000</td>\n",
       "      <td>168.025000</td>\n",
       "      <td>188.232500</td>\n",
       "      <td>154.05000</td>\n",
       "    </tr>\n",
       "    <tr>\n",
       "      <th>50%</th>\n",
       "      <td>178.530000</td>\n",
       "      <td>178.870000</td>\n",
       "      <td>199.805000</td>\n",
       "      <td>164.42500</td>\n",
       "    </tr>\n",
       "    <tr>\n",
       "      <th>75%</th>\n",
       "      <td>186.535000</td>\n",
       "      <td>189.112500</td>\n",
       "      <td>211.332500</td>\n",
       "      <td>172.88250</td>\n",
       "    </tr>\n",
       "    <tr>\n",
       "      <th>max</th>\n",
       "      <td>216.390000</td>\n",
       "      <td>217.860000</td>\n",
       "      <td>238.700000</td>\n",
       "      <td>205.18000</td>\n",
       "    </tr>\n",
       "  </tbody>\n",
       "</table>\n",
       "</div>"
      ],
      "text/plain": [
       "       Laboratory 1  Laboratory 2  Laboratory 3  Laboratory 4\n",
       "count    120.000000    120.000000    120.000000     120.00000\n",
       "mean     178.361583    178.902917    199.913250     163.68275\n",
       "std       13.173594     14.957114     16.539033      15.08508\n",
       "min      138.300000    140.550000    159.690000     124.06000\n",
       "25%      170.335000    168.025000    188.232500     154.05000\n",
       "50%      178.530000    178.870000    199.805000     164.42500\n",
       "75%      186.535000    189.112500    211.332500     172.88250\n",
       "max      216.390000    217.860000    238.700000     205.18000"
      ]
     },
     "execution_count": 21,
     "metadata": {},
     "output_type": "execute_result"
    }
   ],
   "source": [
    "# Description of Dataset\n",
    "data.describe()"
   ]
  },
  {
   "cell_type": "code",
   "execution_count": 22,
   "id": "627da320",
   "metadata": {},
   "outputs": [
    {
     "data": {
      "text/plain": [
       "Laboratory 1    0\n",
       "Laboratory 2    0\n",
       "Laboratory 3    0\n",
       "Laboratory 4    0\n",
       "dtype: int64"
      ]
     },
     "execution_count": 22,
     "metadata": {},
     "output_type": "execute_result"
    }
   ],
   "source": [
    "# Check for null values\n",
    "data.isna().sum()"
   ]
  },
  {
   "cell_type": "markdown",
   "id": "a49c325c",
   "metadata": {},
   "source": [
    "## Preparing data to be used in problem solving"
   ]
  },
  {
   "cell_type": "code",
   "execution_count": 24,
   "id": "98b0b773",
   "metadata": {},
   "outputs": [],
   "source": [
    "lab1 = data['Laboratory 1']\n",
    "lab2 = data['Laboratory 2']\n",
    "lab3 = data['Laboratory 3']\n",
    "lab4 = data['Laboratory 4']"
   ]
  },
  {
   "cell_type": "markdown",
   "id": "3613a406",
   "metadata": {},
   "source": [
    "### Applying ANOVA Ftest statistics"
   ]
  },
  {
   "cell_type": "code",
   "execution_count": 25,
   "id": "77b13df4",
   "metadata": {},
   "outputs": [
    {
     "name": "stdout",
     "output_type": "stream",
     "text": [
      "P-value:  2.1156708949992414e-57\n",
      "Rejecting null hypothesis\n",
      "Conclusion:  Atleast one sample TAT population mean is different\n"
     ]
    }
   ],
   "source": [
    "import scipy.stats as stats\n",
    "α = 0.05\n",
    "\n",
    "f_test, pvalue = stats.f_oneway(lab1, lab2, lab3, lab4)\n",
    "\n",
    "print(\"P-value: \", pvalue)\n",
    "\n",
    "if pvalue <= α:\n",
    "    print(\"Rejecting null hypothesis\")\n",
    "    print(\"Conclusion:  Atleast one sample TAT population mean is different\")\n",
    "else:\n",
    "    print(\"Fail to reject null hypothesis\")\n",
    "    print(\"Conclusion: All samples TAT population means are same\")"
   ]
  },
  {
   "cell_type": "markdown",
   "id": "894a8b1e",
   "metadata": {},
   "source": [
    "### Result: Rejecting null hypothesis\n",
    "### Inference: Atleast one sample TAT population mean is different"
   ]
  },
  {
   "cell_type": "markdown",
   "id": "0e490eed",
   "metadata": {},
   "source": [
    "### Dataset: BuyerRatio.csv\n",
    "### Hypothesis Test: Chi2 contingency Test\n",
    "### Assumptions of Hypothesis\n",
    "### Null Hypothesis Ho : Male-Female buyer rations are similar across regions ,does not vary and not related\n",
    "### Alternate Hypothesis Ha : Male-Female buyer rations are NOT similar across regions"
   ]
  },
  {
   "cell_type": "code",
   "execution_count": 26,
   "id": "dc4dc815",
   "metadata": {},
   "outputs": [],
   "source": [
    "# Loading Libraries\n",
    "import pandas as pd\n",
    "import numpy as np\n",
    "from scipy.stats import chi2_contingency"
   ]
  },
  {
   "cell_type": "code",
   "execution_count": 27,
   "id": "d097b044",
   "metadata": {},
   "outputs": [],
   "source": [
    "# Load the dataset\n",
    "data = pd.read_csv('C:/Users/Hi/Downloads/BuyerRatio.csv')"
   ]
  },
  {
   "cell_type": "code",
   "execution_count": 28,
   "id": "819fd996",
   "metadata": {},
   "outputs": [
    {
     "data": {
      "text/plain": [
       "array([[  50,  142,  131,   70],\n",
       "       [ 435, 1523, 1356,  750]])"
      ]
     },
     "execution_count": 28,
     "metadata": {},
     "output_type": "execute_result"
    }
   ],
   "source": [
    "# Making two dimensional array from available data  \n",
    "obs=np.array([[50,142,131,70],\n",
    "              [435,1523,1356,750]])\n",
    "obs"
   ]
  },
  {
   "cell_type": "markdown",
   "id": "1d95c530",
   "metadata": {},
   "source": [
    "### Applying chi2_contigency test"
   ]
  },
  {
   "cell_type": "code",
   "execution_count": 29,
   "id": "13864eaf",
   "metadata": {},
   "outputs": [],
   "source": [
    "chi2, pvalue, dof, ex = chi2_contingency(obs)"
   ]
  },
  {
   "cell_type": "code",
   "execution_count": 30,
   "id": "1aebe669",
   "metadata": {},
   "outputs": [
    {
     "name": "stdout",
     "output_type": "stream",
     "text": [
      "0.6603094907091882\n",
      "Fail to reject null hypothesis\n",
      "Conclusion: Male-Female buyer rations are similar across regions and not related\n"
     ]
    }
   ],
   "source": [
    "α = 0.05\n",
    "\n",
    "print(pvalue)\n",
    "\n",
    "if pvalue <= α:\n",
    "   print(\"Rejecting null hypothesis\")\n",
    "   print(\"Conclusion: Male-Female buyer rations are NOT similar across regions and related\")\n",
    "else:\n",
    "    print(\"Fail to reject null hypothesis\")\n",
    "    print(\"Conclusion: Male-Female buyer rations are similar across regions and not related\") "
   ]
  },
  {
   "cell_type": "markdown",
   "id": "ad00a996",
   "metadata": {},
   "source": [
    "### Result: Fail to reject null hypothesis\n",
    "### Inference: Male-Female buyer rations are similar across regions and not related"
   ]
  },
  {
   "cell_type": "markdown",
   "id": "506ab30c",
   "metadata": {},
   "source": [
    "#### TeleCall uses 4 centers around the globe to process customer order forms. They audit a certain % of the customer order forms. \n",
    "Any error in order form renders it defective and has to be reworked before processing.\n",
    "The manager wants to check whether the defective % varies by centre.\n",
    "Please analyze the data at 5% significance level and help the manager draw appropriate inferences\n",
    "#### Dataset: CustomerOrderForm.csv\n",
    "#### Hypothesis Test: Chi2 contingency test\n",
    "#### Null Hypothesis: Customer order forms defective % does not varies by centre\n",
    "#### Alternate Hypothesis: Customer order forms defective % varies by centre"
   ]
  },
  {
   "cell_type": "code",
   "execution_count": 31,
   "id": "b5a2129e",
   "metadata": {},
   "outputs": [],
   "source": [
    "# Loading Libraries\n",
    "import pandas as pd\n",
    "import numpy as np\n",
    "from scipy.stats import chi2_contingency"
   ]
  },
  {
   "cell_type": "code",
   "execution_count": 32,
   "id": "0e55c9ee",
   "metadata": {},
   "outputs": [],
   "source": [
    "# Load the dataset\n",
    "data = pd.read_csv('C:/Users/Hi/Downloads/Costomer+OrderForm.csv')"
   ]
  },
  {
   "cell_type": "markdown",
   "id": "b386c6a8",
   "metadata": {},
   "source": [
    "## EDA"
   ]
  },
  {
   "cell_type": "code",
   "execution_count": 34,
   "id": "798d90ce",
   "metadata": {},
   "outputs": [
    {
     "data": {
      "text/plain": [
       "(300, 4)"
      ]
     },
     "execution_count": 34,
     "metadata": {},
     "output_type": "execute_result"
    }
   ],
   "source": [
    "data.shape"
   ]
  },
  {
   "cell_type": "code",
   "execution_count": 35,
   "id": "4eaeeb31",
   "metadata": {},
   "outputs": [
    {
     "data": {
      "text/html": [
       "<div>\n",
       "<style scoped>\n",
       "    .dataframe tbody tr th:only-of-type {\n",
       "        vertical-align: middle;\n",
       "    }\n",
       "\n",
       "    .dataframe tbody tr th {\n",
       "        vertical-align: top;\n",
       "    }\n",
       "\n",
       "    .dataframe thead th {\n",
       "        text-align: right;\n",
       "    }\n",
       "</style>\n",
       "<table border=\"1\" class=\"dataframe\">\n",
       "  <thead>\n",
       "    <tr style=\"text-align: right;\">\n",
       "      <th></th>\n",
       "      <th>Phillippines</th>\n",
       "      <th>Indonesia</th>\n",
       "      <th>Malta</th>\n",
       "      <th>India</th>\n",
       "    </tr>\n",
       "  </thead>\n",
       "  <tbody>\n",
       "    <tr>\n",
       "      <th>count</th>\n",
       "      <td>300</td>\n",
       "      <td>300</td>\n",
       "      <td>300</td>\n",
       "      <td>300</td>\n",
       "    </tr>\n",
       "    <tr>\n",
       "      <th>unique</th>\n",
       "      <td>2</td>\n",
       "      <td>2</td>\n",
       "      <td>2</td>\n",
       "      <td>2</td>\n",
       "    </tr>\n",
       "    <tr>\n",
       "      <th>top</th>\n",
       "      <td>Error Free</td>\n",
       "      <td>Error Free</td>\n",
       "      <td>Error Free</td>\n",
       "      <td>Error Free</td>\n",
       "    </tr>\n",
       "    <tr>\n",
       "      <th>freq</th>\n",
       "      <td>271</td>\n",
       "      <td>267</td>\n",
       "      <td>269</td>\n",
       "      <td>280</td>\n",
       "    </tr>\n",
       "  </tbody>\n",
       "</table>\n",
       "</div>"
      ],
      "text/plain": [
       "       Phillippines   Indonesia       Malta       India\n",
       "count           300         300         300         300\n",
       "unique            2           2           2           2\n",
       "top      Error Free  Error Free  Error Free  Error Free\n",
       "freq            271         267         269         280"
      ]
     },
     "execution_count": 35,
     "metadata": {},
     "output_type": "execute_result"
    }
   ],
   "source": [
    "# description of dataset\n",
    "data.describe()"
   ]
  },
  {
   "cell_type": "code",
   "execution_count": 36,
   "id": "f12f0f04",
   "metadata": {},
   "outputs": [
    {
     "data": {
      "text/plain": [
       "Phillippines    0\n",
       "Indonesia       0\n",
       "Malta           0\n",
       "India           0\n",
       "dtype: int64"
      ]
     },
     "execution_count": 36,
     "metadata": {},
     "output_type": "execute_result"
    }
   ],
   "source": [
    "# checking for null values\n",
    "data.isna().sum()"
   ]
  },
  {
   "cell_type": "code",
   "execution_count": 37,
   "id": "e6c0f624",
   "metadata": {},
   "outputs": [],
   "source": [
    "# Getting count of categorical data i.e., Error free and Defective from dataset\n",
    "error_free_Phillippines, defective_Phillippines = data.Phillippines.value_counts()\n",
    "error_free_Indonesia, defective_Indonesia = data.Indonesia.value_counts()\n",
    "error_free_Malta, defective_Malta = data.Malta.value_counts()\n",
    "error_free_India, defective_India = data.India.value_counts()"
   ]
  },
  {
   "cell_type": "code",
   "execution_count": 38,
   "id": "71f26c88",
   "metadata": {},
   "outputs": [
    {
     "data": {
      "text/plain": [
       "array([[271, 267, 269, 280],\n",
       "       [ 29,  33,  31,  20]])"
      ]
     },
     "execution_count": 38,
     "metadata": {},
     "output_type": "execute_result"
    }
   ],
   "source": [
    "# Converting the count of data into 2D array\n",
    "obs = np.array([[error_free_Phillippines, error_free_Indonesia, error_free_Malta, error_free_India],\n",
    "               [defective_Phillippines, defective_Indonesia, defective_Malta, defective_India]])\n",
    "obs"
   ]
  },
  {
   "cell_type": "markdown",
   "id": "37336568",
   "metadata": {},
   "source": [
    "### Applying chi2_contigency test"
   ]
  },
  {
   "cell_type": "code",
   "execution_count": 39,
   "id": "0f9cb9e3",
   "metadata": {},
   "outputs": [],
   "source": [
    "chi2, pvalue, dof, ex = chi2_contingency(obs)"
   ]
  },
  {
   "cell_type": "code",
   "execution_count": 40,
   "id": "b707118e",
   "metadata": {},
   "outputs": [
    {
     "name": "stdout",
     "output_type": "stream",
     "text": [
      "Fail to reject null hypothesis\n",
      "Conclusion: Customer order forms defective %  does not varies by centre\n"
     ]
    }
   ],
   "source": [
    "α = 0.05\n",
    "\n",
    "\n",
    "if pvalue <= α:\n",
    "   print(\"Rejecting null hypothesis\")\n",
    "   print(\"Conclusion: Customer order forms defective %  varies by centre\")\n",
    "else:\n",
    "    print(\"Fail to reject null hypothesis\")\n",
    "    print(\"Conclusion: Customer order forms defective %  does not varies by centre\")"
   ]
  },
  {
   "cell_type": "markdown",
   "id": "4194a678",
   "metadata": {},
   "source": [
    "### Result: Fail to reject null hypothesis\n",
    "### Inference: Customer order forms defective % does not varies by centre"
   ]
  },
  {
   "cell_type": "code",
   "execution_count": 41,
   "id": "b8e15995",
   "metadata": {},
   "outputs": [
    {
     "name": "stdout",
     "output_type": "stream",
     "text": [
      "Collecting nb2mail\n",
      "  Downloading nb2mail-0.6.tar.gz (4.8 kB)\n",
      "Requirement already satisfied: jupyter in c:\\users\\hi\\anaconda3ab\\lib\\site-packages (from nb2mail) (1.0.0)\n",
      "Requirement already satisfied: notebook in c:\\users\\hi\\anaconda3ab\\lib\\site-packages (from jupyter->nb2mail) (6.3.0)\n",
      "Requirement already satisfied: jupyter-console in c:\\users\\hi\\anaconda3ab\\lib\\site-packages (from jupyter->nb2mail) (6.4.0)\n",
      "Requirement already satisfied: nbconvert in c:\\users\\hi\\anaconda3ab\\lib\\site-packages (from jupyter->nb2mail) (6.0.7)\n",
      "Requirement already satisfied: qtconsole in c:\\users\\hi\\anaconda3ab\\lib\\site-packages (from jupyter->nb2mail) (5.0.3)\n",
      "Requirement already satisfied: ipywidgets in c:\\users\\hi\\anaconda3ab\\lib\\site-packages (from jupyter->nb2mail) (7.6.3)\n",
      "Requirement already satisfied: ipykernel in c:\\users\\hi\\anaconda3ab\\lib\\site-packages (from jupyter->nb2mail) (5.3.4)\n",
      "Requirement already satisfied: tornado>=4.2 in c:\\users\\hi\\anaconda3ab\\lib\\site-packages (from ipykernel->jupyter->nb2mail) (6.1)\n",
      "Requirement already satisfied: ipython>=5.0.0 in c:\\users\\hi\\anaconda3ab\\lib\\site-packages (from ipykernel->jupyter->nb2mail) (7.22.0)\n",
      "Requirement already satisfied: traitlets>=4.1.0 in c:\\users\\hi\\anaconda3ab\\lib\\site-packages (from ipykernel->jupyter->nb2mail) (5.0.5)\n",
      "Requirement already satisfied: jupyter-client in c:\\users\\hi\\anaconda3ab\\lib\\site-packages (from ipykernel->jupyter->nb2mail) (6.1.12)\n",
      "Requirement already satisfied: jedi>=0.16 in c:\\users\\hi\\anaconda3ab\\lib\\site-packages (from ipython>=5.0.0->ipykernel->jupyter->nb2mail) (0.17.2)\n",
      "Requirement already satisfied: setuptools>=18.5 in c:\\users\\hi\\anaconda3ab\\lib\\site-packages (from ipython>=5.0.0->ipykernel->jupyter->nb2mail) (52.0.0.post20210125)\n",
      "Requirement already satisfied: pygments in c:\\users\\hi\\anaconda3ab\\lib\\site-packages (from ipython>=5.0.0->ipykernel->jupyter->nb2mail) (2.8.1)\n",
      "Requirement already satisfied: prompt-toolkit!=3.0.0,!=3.0.1,<3.1.0,>=2.0.0 in c:\\users\\hi\\anaconda3ab\\lib\\site-packages (from ipython>=5.0.0->ipykernel->jupyter->nb2mail) (3.0.17)\n",
      "Requirement already satisfied: colorama in c:\\users\\hi\\anaconda3ab\\lib\\site-packages (from ipython>=5.0.0->ipykernel->jupyter->nb2mail) (0.4.4)\n",
      "Requirement already satisfied: decorator in c:\\users\\hi\\anaconda3ab\\lib\\site-packages (from ipython>=5.0.0->ipykernel->jupyter->nb2mail) (5.0.6)\n",
      "Requirement already satisfied: pickleshare in c:\\users\\hi\\anaconda3ab\\lib\\site-packages (from ipython>=5.0.0->ipykernel->jupyter->nb2mail) (0.7.5)\n",
      "Requirement already satisfied: backcall in c:\\users\\hi\\anaconda3ab\\lib\\site-packages (from ipython>=5.0.0->ipykernel->jupyter->nb2mail) (0.2.0)\n",
      "Requirement already satisfied: parso<0.8.0,>=0.7.0 in c:\\users\\hi\\anaconda3ab\\lib\\site-packages (from jedi>=0.16->ipython>=5.0.0->ipykernel->jupyter->nb2mail) (0.7.0)\n",
      "Requirement already satisfied: wcwidth in c:\\users\\hi\\anaconda3ab\\lib\\site-packages (from prompt-toolkit!=3.0.0,!=3.0.1,<3.1.0,>=2.0.0->ipython>=5.0.0->ipykernel->jupyter->nb2mail) (0.2.5)\n",
      "Requirement already satisfied: ipython-genutils in c:\\users\\hi\\anaconda3ab\\lib\\site-packages (from traitlets>=4.1.0->ipykernel->jupyter->nb2mail) (0.2.0)\n",
      "Requirement already satisfied: nbformat>=4.2.0 in c:\\users\\hi\\anaconda3ab\\lib\\site-packages (from ipywidgets->jupyter->nb2mail) (5.1.3)\n",
      "Requirement already satisfied: jupyterlab-widgets>=1.0.0 in c:\\users\\hi\\anaconda3ab\\lib\\site-packages (from ipywidgets->jupyter->nb2mail) (1.0.0)\n",
      "Requirement already satisfied: widgetsnbextension~=3.5.0 in c:\\users\\hi\\anaconda3ab\\lib\\site-packages (from ipywidgets->jupyter->nb2mail) (3.5.1)\n",
      "Requirement already satisfied: jupyter-core in c:\\users\\hi\\anaconda3ab\\lib\\site-packages (from nbformat>=4.2.0->ipywidgets->jupyter->nb2mail) (4.7.1)\n",
      "Requirement already satisfied: jsonschema!=2.5.0,>=2.4 in c:\\users\\hi\\anaconda3ab\\lib\\site-packages (from nbformat>=4.2.0->ipywidgets->jupyter->nb2mail) (3.2.0)\n",
      "Requirement already satisfied: pyrsistent>=0.14.0 in c:\\users\\hi\\anaconda3ab\\lib\\site-packages (from jsonschema!=2.5.0,>=2.4->nbformat>=4.2.0->ipywidgets->jupyter->nb2mail) (0.17.3)\n",
      "Requirement already satisfied: six>=1.11.0 in c:\\users\\hi\\anaconda3ab\\lib\\site-packages (from jsonschema!=2.5.0,>=2.4->nbformat>=4.2.0->ipywidgets->jupyter->nb2mail) (1.15.0)\n",
      "Requirement already satisfied: attrs>=17.4.0 in c:\\users\\hi\\anaconda3ab\\lib\\site-packages (from jsonschema!=2.5.0,>=2.4->nbformat>=4.2.0->ipywidgets->jupyter->nb2mail) (20.3.0)\n",
      "Requirement already satisfied: prometheus-client in c:\\users\\hi\\anaconda3ab\\lib\\site-packages (from notebook->jupyter->nb2mail) (0.10.1)\n",
      "Requirement already satisfied: terminado>=0.8.3 in c:\\users\\hi\\anaconda3ab\\lib\\site-packages (from notebook->jupyter->nb2mail) (0.9.4)\n",
      "Requirement already satisfied: pyzmq>=17 in c:\\users\\hi\\anaconda3ab\\lib\\site-packages (from notebook->jupyter->nb2mail) (20.0.0)\n",
      "Requirement already satisfied: argon2-cffi in c:\\users\\hi\\anaconda3ab\\lib\\site-packages (from notebook->jupyter->nb2mail) (20.1.0)\n",
      "Requirement already satisfied: jinja2 in c:\\users\\hi\\anaconda3ab\\lib\\site-packages (from notebook->jupyter->nb2mail) (2.11.3)\n",
      "Requirement already satisfied: Send2Trash>=1.5.0 in c:\\users\\hi\\anaconda3ab\\lib\\site-packages (from notebook->jupyter->nb2mail) (1.5.0)\n",
      "Requirement already satisfied: python-dateutil>=2.1 in c:\\users\\hi\\anaconda3ab\\lib\\site-packages (from jupyter-client->ipykernel->jupyter->nb2mail) (2.8.1)\n",
      "Requirement already satisfied: pywin32>=1.0 in c:\\users\\hi\\anaconda3ab\\lib\\site-packages (from jupyter-core->nbformat>=4.2.0->ipywidgets->jupyter->nb2mail) (227)\n",
      "Requirement already satisfied: pywinpty>=0.5 in c:\\users\\hi\\anaconda3ab\\lib\\site-packages (from terminado>=0.8.3->notebook->jupyter->nb2mail) (0.5.7)\n",
      "Requirement already satisfied: cffi>=1.0.0 in c:\\users\\hi\\anaconda3ab\\lib\\site-packages (from argon2-cffi->notebook->jupyter->nb2mail) (1.14.5)\n",
      "Requirement already satisfied: pycparser in c:\\users\\hi\\anaconda3ab\\lib\\site-packages (from cffi>=1.0.0->argon2-cffi->notebook->jupyter->nb2mail) (2.20)\n",
      "Requirement already satisfied: MarkupSafe>=0.23 in c:\\users\\hi\\anaconda3ab\\lib\\site-packages (from jinja2->notebook->jupyter->nb2mail) (2.0.1)\n",
      "Requirement already satisfied: bleach in c:\\users\\hi\\anaconda3ab\\lib\\site-packages (from nbconvert->jupyter->nb2mail) (3.3.0)\n",
      "Requirement already satisfied: nbclient<0.6.0,>=0.5.0 in c:\\users\\hi\\anaconda3ab\\lib\\site-packages (from nbconvert->jupyter->nb2mail) (0.5.3)\n",
      "Requirement already satisfied: mistune<2,>=0.8.1 in c:\\users\\hi\\anaconda3ab\\lib\\site-packages (from nbconvert->jupyter->nb2mail) (0.8.4)\n",
      "Requirement already satisfied: pandocfilters>=1.4.1 in c:\\users\\hi\\anaconda3ab\\lib\\site-packages (from nbconvert->jupyter->nb2mail) (1.4.3)\n",
      "Requirement already satisfied: jupyterlab-pygments in c:\\users\\hi\\anaconda3ab\\lib\\site-packages (from nbconvert->jupyter->nb2mail) (0.1.2)\n",
      "Requirement already satisfied: defusedxml in c:\\users\\hi\\anaconda3ab\\lib\\site-packages (from nbconvert->jupyter->nb2mail) (0.7.1)\n",
      "Requirement already satisfied: testpath in c:\\users\\hi\\anaconda3ab\\lib\\site-packages (from nbconvert->jupyter->nb2mail) (0.4.4)\n",
      "Requirement already satisfied: entrypoints>=0.2.2 in c:\\users\\hi\\anaconda3ab\\lib\\site-packages (from nbconvert->jupyter->nb2mail) (0.3)\n",
      "Requirement already satisfied: nest-asyncio in c:\\users\\hi\\anaconda3ab\\lib\\site-packages (from nbclient<0.6.0,>=0.5.0->nbconvert->jupyter->nb2mail) (1.5.1)\n",
      "Requirement already satisfied: async-generator in c:\\users\\hi\\anaconda3ab\\lib\\site-packages (from nbclient<0.6.0,>=0.5.0->nbconvert->jupyter->nb2mail) (1.10)\n",
      "Requirement already satisfied: webencodings in c:\\users\\hi\\anaconda3ab\\lib\\site-packages (from bleach->nbconvert->jupyter->nb2mail) (0.5.1)\n",
      "Requirement already satisfied: packaging in c:\\users\\hi\\anaconda3ab\\lib\\site-packages (from bleach->nbconvert->jupyter->nb2mail) (20.9)\n",
      "Requirement already satisfied: pyparsing>=2.0.2 in c:\\users\\hi\\anaconda3ab\\lib\\site-packages (from packaging->bleach->nbconvert->jupyter->nb2mail) (2.4.7)\n",
      "Requirement already satisfied: qtpy in c:\\users\\hi\\anaconda3ab\\lib\\site-packages (from qtconsole->jupyter->nb2mail) (1.9.0)\n",
      "Building wheels for collected packages: nb2mail\n",
      "  Building wheel for nb2mail (setup.py): started\n",
      "  Building wheel for nb2mail (setup.py): finished with status 'done'\n",
      "  Created wheel for nb2mail: filename=nb2mail-0.6-py3-none-any.whl size=4345 sha256=c275a6397262dbc56f1e8873e8d625b2d094fc58b1fd622e899116b7fa592293\n",
      "  Stored in directory: c:\\users\\hi\\appdata\\local\\pip\\cache\\wheels\\cd\\db\\25\\87554116dc157d3cc7bb10eee2dc11af0bce6ccfe02570ac21\n",
      "Successfully built nb2mail\n",
      "Installing collected packages: nb2mail\n",
      "Successfully installed nb2mail-0.6\n"
     ]
    }
   ],
   "source": [
    "!pip install nb2mail"
   ]
  },
  {
   "cell_type": "code",
   "execution_count": null,
   "id": "4cef3be1",
   "metadata": {},
   "outputs": [],
   "source": []
  }
 ],
 "metadata": {
  "gist": {
   "data": {
    "description": "HYPOTHESIS ASSIGNMENT CUTLETS.ipynb",
    "public": true
   },
   "id": ""
  },
  "kernelspec": {
   "display_name": "Python 3",
   "language": "python",
   "name": "python3"
  },
  "language_info": {
   "codemirror_mode": {
    "name": "ipython",
    "version": 3
   },
   "file_extension": ".py",
   "mimetype": "text/x-python",
   "name": "python",
   "nbconvert_exporter": "python",
   "pygments_lexer": "ipython3",
   "version": "3.8.8"
  },
  "widgets": {
   "application/vnd.jupyter.widget-state+json": {
    "state": {},
    "version_major": 2,
    "version_minor": 0
   }
  }
 },
 "nbformat": 4,
 "nbformat_minor": 5
}
